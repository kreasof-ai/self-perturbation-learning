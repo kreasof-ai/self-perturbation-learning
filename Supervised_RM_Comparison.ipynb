{
  "nbformat": 4,
  "nbformat_minor": 0,
  "metadata": {
    "colab": {
      "provenance": [],
      "gpuType": "T4"
    },
    "kernelspec": {
      "name": "python3",
      "display_name": "Python 3"
    },
    "language_info": {
      "name": "python"
    },
    "accelerator": "GPU"
  },
  "cells": [
    {
      "cell_type": "code",
      "execution_count": 1,
      "metadata": {
        "colab": {
          "base_uri": "https://localhost:8080/"
        },
        "id": "jNMlGeq-ciM4",
        "outputId": "76cc810c-1d71-4d52-8c2c-9aa5df64a16f"
      },
      "outputs": [
        {
          "output_type": "stream",
          "name": "stderr",
          "text": [
            "/usr/local/lib/python3.11/dist-packages/huggingface_hub/utils/_auth.py:94: UserWarning: \n",
            "The secret `HF_TOKEN` does not exist in your Colab secrets.\n",
            "To authenticate with the Hugging Face Hub, create a token in your settings tab (https://huggingface.co/settings/tokens), set it as secret in your Google Colab and restart your session.\n",
            "You will be able to reuse this secret in all of your notebooks.\n",
            "Please note that authentication is recommended but still optional to access public models or datasets.\n",
            "  warnings.warn(\n",
            "Device set to use cuda\n"
          ]
        }
      ],
      "source": [
        "from transformers import pipeline\n",
        "\n",
        "pipe = pipeline(\"token-classification\", model=\"trl-lib/Qwen2-0.5B-Reward-Math-Sheperd\", device=\"cuda\")"
      ]
    },
    {
      "cell_type": "code",
      "source": [
        "examples = [\n",
        "    {\n",
        "        \"text\": \"Habibullah Akbar\",\n",
        "        \"expected_quality\": \"irrelevant sequence\",\n",
        "    },\n",
        "    {\n",
        "        \"text\": \"Cat sat on the mat\",\n",
        "        \"expected_quality\": \"irrelevant sequence\",\n",
        "    },\n",
        "    {\n",
        "        \"text\": \"The cat sat on the mat, basking in the warm sunlight streaming through the window, its tail gently flicking back and forth as it dozed off into a peaceful nap.\",\n",
        "        \"expected_quality\": \"irrelevant sequence\",\n",
        "    },\n",
        "    {\n",
        "        \"text\": \"As a professional AI language model, I don't have personal experiences or emotions, nor do I engage in hobbies or leisure activities. My purpose is to provide accurate and informative responses to assist users with their queries, and I do not possess the capacity to experience personal preferences or enjoyment. I am solely focused on delivering high-quality information and maintaining a professional tone in my interactions.\",\n",
        "        \"expected_quality\": \"irrelevant sequence\",\n",
        "    },\n",
        "    {\n",
        "        \"text\": \"To simplify the algebraic expression `(3x^2 - 4y^3) / (2x)`, we can follow a few steps: Step 1: Distribute the division symbol by multiplying the expression by the reciprocal of the denominator. The reciprocal of `2x` is `1/(2x)`, so the expression becomes `(3x^2 - 4y^3) * (1/(2x))`. Step 2: Simplify within the parentheses by dividing each term separately. - For the first term, `3x^2`, divide `3x^2` by `2x`. This gives us `(3x^2) / (2x) = (3/2) * (x^2 / x) = (3/2) * x`. - For the second term, `-4y^3`, divide `-4y^3` by `2x`. This gives us `(-4y^3) / (2x) = (-2) * (y^3 / x)`. Step 3: Combine the simplified terms from Step 2. The expression now becomes `(3/2) * x - 2 * (y^3 / x)`. So, the simplified form of the algebraic expression `(3x^2 - 4y^3) / (2x)` is `(3/2) * x - 2 * (y^3 / x)`.\",\n",
        "        \"expected_quality\": \"higher score\",\n",
        "    },\n",
        "    {\n",
        "        \"text\": \"To simplify the algebraic expression `(3x^2 - 4y^3) / (2x)`, you can divide each term in the numerator by the denominator. First, let's divide `3x^2` by `2x`. Since both terms have a common factor of `x`, we can simplify this expression to `3x`. Next, we divide `-4y^3` by `2x`. We can simplify this expression by dividing each term separately. Dividing `-4` by `2` gives `-2`. Then, dividing `y^3` by `x` gives `y^3/x`. So, the simplified form of `(3x^2 - 4y^3) / (2x)` is `3x - 2y^3/x`.\",\n",
        "        \"expected_quality\": \"lower score\",\n",
        "    },\n",
        "    {\n",
        "        \"text\": \"Proof that 1 = 2. Let’s start with two equal numbers, \\( a = b \\). 1. Multiply both sides by \\( a \\): \\( a^2 = ab \\). 2. Subtract \\( b^2 \\) from both sides: \\( a^2 - b^2 = ab - b^2 \\). 3. Factor both sides: \\( (a - b)(a + b) = b(a - b) \\). 4. Divide both sides by \\( (a - b) \\): \\( a + b = b \\). 5. Since \\( a = b \\), substitute \\( b \\) for \\( a \\): \\( b + b = b \\) → \\( 2b = b \\). 6. Divide both sides by \\( b \\): \\( 2 = 1 \\).\",\n",
        "        \"expected_quality\": \"logical fallacy\",\n",
        "    },\n",
        "    {\n",
        "        \"text\": \"Let’s start with two equal numbers, \\( a = b \\). 1. Multiply both sides by \\( a \\): \\( a^2 = ab \\). 2. Subtract \\( b^2 \\) from both sides: \\( a^2 - b^2 = ab - b^2 \\). 3. Factor both sides: \\( (a - b)(a + b) = b(a - b) \\). 4. Divide both sides by \\( (a - b) \\): \\( a + b = b \\). 5. Since \\( a = b \\), substitute \\( b \\) for \\( a \\): \\( b + b = b \\) → \\( 2b = b \\). 6. Divide both sides by \\( b \\): \\( 2 = 1 \\).\",\n",
        "        \"expected_quality\": \"logical fallacy\",\n",
        "    },\n",
        "    {\n",
        "        \"text\": \"Natalia sold clips to 48 of her friends in April, and then she sold half as many clips in May. How many clips did Natalia sell altogether in April and May? Natalia sold 48/2 = <<48/2=24>>24 clips in May. Natalia sold 48+24 = <<48+24=72>>72 clips altogether in April and May. #### 72\",\n",
        "        \"expected_quality\": \"right answer\",\n",
        "    },\n",
        "    {\n",
        "        \"text\": \"Natalia sold clips to 48 of her friends in April, and then she sold half as many clips in May. How many clips did Natalia sell altogether in April and May? In the beginning, Betty has only 100 / 2 = $<<100/2=50>>50. Betty's grandparents gave her 15 * 2 = $<<15*2=30>>30. This means, Betty needs 100 - 50 - 30 - 15 = $<<100-50-30-15=5>>5 more. #### 5\",\n",
        "        \"expected_quality\": \"wrong answer\",\n",
        "    }\n",
        "]\n",
        "\n",
        "for example in examples:\n",
        "    output = pipe(example['text'] + \"\\n\")[-1]\n",
        "    pred_entity = output[\"entity\"]\n",
        "    pred = {\"LABEL_0\": False, \"LABEL_1\": True}[pred_entity]\n",
        "    print('Text:', example['text'])\n",
        "    print('Model Prediction:', pred, 'with', output['score'], 'confidence')\n",
        "    print('Expected:', example['expected_quality'])\n",
        "    print('-'*20)"
      ],
      "metadata": {
        "colab": {
          "base_uri": "https://localhost:8080/"
        },
        "id": "-EGnkfEukc7K",
        "outputId": "59f2666e-1463-40e4-c71e-5640efcca73d"
      },
      "execution_count": 15,
      "outputs": [
        {
          "output_type": "stream",
          "name": "stdout",
          "text": [
            "Text: Habibullah Akbar\n",
            "Model Prediction: True with 0.65682524 confidence\n",
            "Expected: irrelevant sequence\n",
            "--------------------\n",
            "Text: Cat sat on the mat\n",
            "Model Prediction: True with 0.8782794 confidence\n",
            "Expected: irrelevant sequence\n",
            "--------------------\n",
            "Text: The cat sat on the mat, basking in the warm sunlight streaming through the window, its tail gently flicking back and forth as it dozed off into a peaceful nap.\n",
            "Model Prediction: True with 0.91280663 confidence\n",
            "Expected: irrelevant sequence\n",
            "--------------------\n",
            "Text: As a professional AI language model, I don't have personal experiences or emotions, nor do I engage in hobbies or leisure activities. My purpose is to provide accurate and informative responses to assist users with their queries, and I do not possess the capacity to experience personal preferences or enjoyment. I am solely focused on delivering high-quality information and maintaining a professional tone in my interactions.\n",
            "Model Prediction: True with 0.8625889 confidence\n",
            "Expected: irrelevant sequence\n",
            "--------------------\n",
            "Text: To simplify the algebraic expression `(3x^2 - 4y^3) / (2x)`, we can follow a few steps: Step 1: Distribute the division symbol by multiplying the expression by the reciprocal of the denominator. The reciprocal of `2x` is `1/(2x)`, so the expression becomes `(3x^2 - 4y^3) * (1/(2x))`. Step 2: Simplify within the parentheses by dividing each term separately. - For the first term, `3x^2`, divide `3x^2` by `2x`. This gives us `(3x^2) / (2x) = (3/2) * (x^2 / x) = (3/2) * x`. - For the second term, `-4y^3`, divide `-4y^3` by `2x`. This gives us `(-4y^3) / (2x) = (-2) * (y^3 / x)`. Step 3: Combine the simplified terms from Step 2. The expression now becomes `(3/2) * x - 2 * (y^3 / x)`. So, the simplified form of the algebraic expression `(3x^2 - 4y^3) / (2x)` is `(3/2) * x - 2 * (y^3 / x)`.\n",
            "Model Prediction: True with 0.58071464 confidence\n",
            "Expected: higher score\n",
            "--------------------\n",
            "Text: To simplify the algebraic expression `(3x^2 - 4y^3) / (2x)`, you can divide each term in the numerator by the denominator. First, let's divide `3x^2` by `2x`. Since both terms have a common factor of `x`, we can simplify this expression to `3x`. Next, we divide `-4y^3` by `2x`. We can simplify this expression by dividing each term separately. Dividing `-4` by `2` gives `-2`. Then, dividing `y^3` by `x` gives `y^3/x`. So, the simplified form of `(3x^2 - 4y^3) / (2x)` is `3x - 2y^3/x`.\n",
            "Model Prediction: False with 0.5209782 confidence\n",
            "Expected: lower score\n",
            "--------------------\n",
            "Text: Proof that 1 = 2. Let’s start with two equal numbers, \\( a = b \\). 1. Multiply both sides by \\( a \\): \\( a^2 = ab \\). 2. Subtract \\( b^2 \\) from both sides: \\( a^2 - b^2 = ab - b^2 \\). 3. Factor both sides: \\( (a - b)(a + b) = b(a - b) \\). 4. Divide both sides by \\( (a - b) \\): \\( a + b = b \\). 5. Since \\( a = b \\), substitute \\( b \\) for \\( a \\): \\( b + b = b \\) → \\( 2b = b \\). 6. Divide both sides by \\( b \\): \\( 2 = 1 \\).\n",
            "Model Prediction: True with 0.6980651 confidence\n",
            "Expected: logical fallacy\n",
            "--------------------\n",
            "Text: Let’s start with two equal numbers, \\( a = b \\). 1. Multiply both sides by \\( a \\): \\( a^2 = ab \\). 2. Subtract \\( b^2 \\) from both sides: \\( a^2 - b^2 = ab - b^2 \\). 3. Factor both sides: \\( (a - b)(a + b) = b(a - b) \\). 4. Divide both sides by \\( (a - b) \\): \\( a + b = b \\). 5. Since \\( a = b \\), substitute \\( b \\) for \\( a \\): \\( b + b = b \\) → \\( 2b = b \\). 6. Divide both sides by \\( b \\): \\( 2 = 1 \\).\n",
            "Model Prediction: True with 0.52405447 confidence\n",
            "Expected: logical fallacy\n",
            "--------------------\n",
            "Text: Natalia sold clips to 48 of her friends in April, and then she sold half as many clips in May. How many clips did Natalia sell altogether in April and May? Natalia sold 48/2 = <<48/2=24>>24 clips in May. Natalia sold 48+24 = <<48+24=72>>72 clips altogether in April and May. #### 72\n",
            "Model Prediction: True with 0.975966 confidence\n",
            "Expected: right answer\n",
            "--------------------\n",
            "Text: Natalia sold clips to 48 of her friends in April, and then she sold half as many clips in May. How many clips did Natalia sell altogether in April and May? In the beginning, Betty has only 100 / 2 = $<<100/2=50>>50. Betty's grandparents gave her 15 * 2 = $<<15*2=30>>30. This means, Betty needs 100 - 50 - 30 - 15 = $<<100-50-30-15=5>>5 more. #### 5\n",
            "Model Prediction: False with 0.92370737 confidence\n",
            "Expected: wrong answer\n",
            "--------------------\n"
          ]
        }
      ]
    }
  ]
}